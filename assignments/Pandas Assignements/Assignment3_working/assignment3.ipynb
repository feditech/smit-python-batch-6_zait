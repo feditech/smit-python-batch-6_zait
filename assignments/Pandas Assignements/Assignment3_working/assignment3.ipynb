{
 "cells": [
  {
   "cell_type": "markdown",
   "id": "e1801ba3-0d39-4198-b953-ebefa2ab4b76",
   "metadata": {},
   "source": [
    "### Pandas Assignment 3"
   ]
  },
  {
   "cell_type": "markdown",
   "id": "de119f7f-0e74-4b22-aca0-708aecff70c2",
   "metadata": {},
   "source": [
    "### LEARN DATA ANALYSIS WITH PANDAS\n",
    "#### Page Visits Funnel\n",
    "##### Cool T-Shirts Inc. has asked you to analyze data on visits to their website. Your job is to build a funnel, which is a description of how many people continue to the next step of a multi-step process."
   ]
  },
  {
   "cell_type": "markdown",
   "id": "491f4743-d12f-4172-81b8-d266d1fd5a43",
   "metadata": {},
   "source": [
    "#### In this case, our funnel is going to describe the following process:\n",
    "    - A user visits CoolTShirts.com\n",
    "    - A user adds a t-shirt to their cart\n",
    "    - A user clicks “checkout”\n",
    "    - A user actually purchases a t-shirt\n"
   ]
  },
  {
   "cell_type": "markdown",
   "id": "fa616200-dc28-4d27-a591-11bdd05839c6",
   "metadata": {},
   "source": [
    "### Funnel for Cool T-Shirts Inc."
   ]
  },
  {
   "cell_type": "markdown",
   "id": "f333b369-7e46-47cc-9c54-a2554b01c533",
   "metadata": {},
   "source": [
    "### 1. Inspect the DataFrames using print and head:"
   ]
  },
  {
   "cell_type": "code",
   "execution_count": 16,
   "id": "0fcf1d55-a5e5-49c5-aa78-bff2a0aa7e93",
   "metadata": {},
   "outputs": [],
   "source": [
    "import pandas as pd"
   ]
  },
  {
   "cell_type": "code",
   "execution_count": 50,
   "id": "1e7311a9-81b7-48c1-8126-e45613d6e2a9",
   "metadata": {},
   "outputs": [
    {
     "name": "stdout",
     "output_type": "stream",
     "text": [
      "visit shape: (2000, 2) \n",
      "cart shape: (348, 2) \n",
      "checkout shape: (360, 2) \n",
      "purchase shape: (252, 2) \n"
     ]
    }
   ],
   "source": [
    "visits = pd.read_csv(\"visits.csv\")\n",
    "cart = pd.read_csv(\"cart.csv\")\n",
    "checkout = pd.read_csv(\"checkout.csv\")\n",
    "purchase = pd.read_csv(\"purchase.csv\")\n",
    "\n",
    "print(f\"\"\"visit shape: {visits.shape} \n",
    "cart shape: {cart.shape} \n",
    "checkout shape: {checkout.shape} \n",
    "purchase shape: {purchase.shape} \"\"\")"
   ]
  },
  {
   "cell_type": "code",
   "execution_count": 30,
   "id": "b462b935-e524-494a-9459-109879558fbc",
   "metadata": {},
   "outputs": [
    {
     "data": {
      "text/html": [
       "<div>\n",
       "<style scoped>\n",
       "    .dataframe tbody tr th:only-of-type {\n",
       "        vertical-align: middle;\n",
       "    }\n",
       "\n",
       "    .dataframe tbody tr th {\n",
       "        vertical-align: top;\n",
       "    }\n",
       "\n",
       "    .dataframe thead th {\n",
       "        text-align: right;\n",
       "    }\n",
       "</style>\n",
       "<table border=\"1\" class=\"dataframe\">\n",
       "  <thead>\n",
       "    <tr style=\"text-align: right;\">\n",
       "      <th></th>\n",
       "      <th>user_id</th>\n",
       "      <th>visit_time</th>\n",
       "    </tr>\n",
       "  </thead>\n",
       "  <tbody>\n",
       "    <tr>\n",
       "      <th>0</th>\n",
       "      <td>943647ef-3682-4750-a2e1-918ba6f16188</td>\n",
       "      <td>2017-04-07 15:14:00</td>\n",
       "    </tr>\n",
       "    <tr>\n",
       "      <th>1</th>\n",
       "      <td>0c3a3dd0-fb64-4eac-bf84-ba069ce409f2</td>\n",
       "      <td>2017-01-26 14:24:00</td>\n",
       "    </tr>\n",
       "    <tr>\n",
       "      <th>2</th>\n",
       "      <td>6e0b2d60-4027-4d9a-babd-0e7d40859fb1</td>\n",
       "      <td>2017-08-20 08:23:00</td>\n",
       "    </tr>\n",
       "    <tr>\n",
       "      <th>3</th>\n",
       "      <td>6879527e-c5a6-4d14-b2da-50b85212b0ab</td>\n",
       "      <td>2017-11-04 18:15:00</td>\n",
       "    </tr>\n",
       "    <tr>\n",
       "      <th>4</th>\n",
       "      <td>a84327ff-5daa-4ba1-b789-d5b4caf81e96</td>\n",
       "      <td>2017-02-27 11:25:00</td>\n",
       "    </tr>\n",
       "  </tbody>\n",
       "</table>\n",
       "</div>"
      ],
      "text/plain": [
       "                                user_id           visit_time\n",
       "0  943647ef-3682-4750-a2e1-918ba6f16188  2017-04-07 15:14:00\n",
       "1  0c3a3dd0-fb64-4eac-bf84-ba069ce409f2  2017-01-26 14:24:00\n",
       "2  6e0b2d60-4027-4d9a-babd-0e7d40859fb1  2017-08-20 08:23:00\n",
       "3  6879527e-c5a6-4d14-b2da-50b85212b0ab  2017-11-04 18:15:00\n",
       "4  a84327ff-5daa-4ba1-b789-d5b4caf81e96  2017-02-27 11:25:00"
      ]
     },
     "execution_count": 30,
     "metadata": {},
     "output_type": "execute_result"
    }
   ],
   "source": [
    "visits.head()"
   ]
  },
  {
   "cell_type": "code",
   "execution_count": 22,
   "id": "81ccc4f8-5c9d-473b-912d-026e6699146d",
   "metadata": {},
   "outputs": [
    {
     "data": {
      "text/html": [
       "<div>\n",
       "<style scoped>\n",
       "    .dataframe tbody tr th:only-of-type {\n",
       "        vertical-align: middle;\n",
       "    }\n",
       "\n",
       "    .dataframe tbody tr th {\n",
       "        vertical-align: top;\n",
       "    }\n",
       "\n",
       "    .dataframe thead th {\n",
       "        text-align: right;\n",
       "    }\n",
       "</style>\n",
       "<table border=\"1\" class=\"dataframe\">\n",
       "  <thead>\n",
       "    <tr style=\"text-align: right;\">\n",
       "      <th></th>\n",
       "      <th>user_id</th>\n",
       "      <th>cart_time</th>\n",
       "    </tr>\n",
       "  </thead>\n",
       "  <tbody>\n",
       "    <tr>\n",
       "      <th>0</th>\n",
       "      <td>2be90e7c-9cca-44e0-bcc5-124b945ff168</td>\n",
       "      <td>2017-11-07 20:45:00</td>\n",
       "    </tr>\n",
       "    <tr>\n",
       "      <th>1</th>\n",
       "      <td>4397f73f-1da3-4ab3-91af-762792e25973</td>\n",
       "      <td>2017-05-27 01:35:00</td>\n",
       "    </tr>\n",
       "    <tr>\n",
       "      <th>2</th>\n",
       "      <td>a9db3d4b-0a0a-4398-a55a-ebb2c7adf663</td>\n",
       "      <td>2017-03-04 10:38:00</td>\n",
       "    </tr>\n",
       "    <tr>\n",
       "      <th>3</th>\n",
       "      <td>b594862a-36c5-47d5-b818-6e9512b939b3</td>\n",
       "      <td>2017-09-27 08:22:00</td>\n",
       "    </tr>\n",
       "    <tr>\n",
       "      <th>4</th>\n",
       "      <td>a68a16e2-94f0-4ce8-8ce3-784af0bbb974</td>\n",
       "      <td>2017-07-26 15:48:00</td>\n",
       "    </tr>\n",
       "  </tbody>\n",
       "</table>\n",
       "</div>"
      ],
      "text/plain": [
       "                                user_id            cart_time\n",
       "0  2be90e7c-9cca-44e0-bcc5-124b945ff168  2017-11-07 20:45:00\n",
       "1  4397f73f-1da3-4ab3-91af-762792e25973  2017-05-27 01:35:00\n",
       "2  a9db3d4b-0a0a-4398-a55a-ebb2c7adf663  2017-03-04 10:38:00\n",
       "3  b594862a-36c5-47d5-b818-6e9512b939b3  2017-09-27 08:22:00\n",
       "4  a68a16e2-94f0-4ce8-8ce3-784af0bbb974  2017-07-26 15:48:00"
      ]
     },
     "execution_count": 22,
     "metadata": {},
     "output_type": "execute_result"
    }
   ],
   "source": [
    "cart.head()"
   ]
  },
  {
   "cell_type": "code",
   "execution_count": 52,
   "id": "332bd410-8195-4437-9507-481f0bbf3d56",
   "metadata": {},
   "outputs": [
    {
     "data": {
      "text/html": [
       "<div>\n",
       "<style scoped>\n",
       "    .dataframe tbody tr th:only-of-type {\n",
       "        vertical-align: middle;\n",
       "    }\n",
       "\n",
       "    .dataframe tbody tr th {\n",
       "        vertical-align: top;\n",
       "    }\n",
       "\n",
       "    .dataframe thead th {\n",
       "        text-align: right;\n",
       "    }\n",
       "</style>\n",
       "<table border=\"1\" class=\"dataframe\">\n",
       "  <thead>\n",
       "    <tr style=\"text-align: right;\">\n",
       "      <th></th>\n",
       "      <th>user_id</th>\n",
       "      <th>purchase_time</th>\n",
       "    </tr>\n",
       "  </thead>\n",
       "  <tbody>\n",
       "    <tr>\n",
       "      <th>0</th>\n",
       "      <td>4b44ace4-2721-47a0-b24b-15fbfa2abf85</td>\n",
       "      <td>2017-05-11 04:25:00</td>\n",
       "    </tr>\n",
       "    <tr>\n",
       "      <th>1</th>\n",
       "      <td>02e684ae-a448-408f-a9ff-dcb4a5c99aac</td>\n",
       "      <td>2017-09-05 08:45:00</td>\n",
       "    </tr>\n",
       "    <tr>\n",
       "      <th>2</th>\n",
       "      <td>4b4bc391-749e-4b90-ab8f-4f6e3c84d6dc</td>\n",
       "      <td>2017-11-20 20:49:00</td>\n",
       "    </tr>\n",
       "    <tr>\n",
       "      <th>3</th>\n",
       "      <td>a5dbb25f-3c36-4103-9030-9f7c6241cd8d</td>\n",
       "      <td>2017-01-22 15:18:00</td>\n",
       "    </tr>\n",
       "    <tr>\n",
       "      <th>4</th>\n",
       "      <td>46a3186d-7f5a-4ab9-87af-84d05bfd4867</td>\n",
       "      <td>2017-06-11 11:32:00</td>\n",
       "    </tr>\n",
       "  </tbody>\n",
       "</table>\n",
       "</div>"
      ],
      "text/plain": [
       "                                user_id        purchase_time\n",
       "0  4b44ace4-2721-47a0-b24b-15fbfa2abf85  2017-05-11 04:25:00\n",
       "1  02e684ae-a448-408f-a9ff-dcb4a5c99aac  2017-09-05 08:45:00\n",
       "2  4b4bc391-749e-4b90-ab8f-4f6e3c84d6dc  2017-11-20 20:49:00\n",
       "3  a5dbb25f-3c36-4103-9030-9f7c6241cd8d  2017-01-22 15:18:00\n",
       "4  46a3186d-7f5a-4ab9-87af-84d05bfd4867  2017-06-11 11:32:00"
      ]
     },
     "execution_count": 52,
     "metadata": {},
     "output_type": "execute_result"
    }
   ],
   "source": [
    "checkout.head()"
   ]
  },
  {
   "cell_type": "code",
   "execution_count": 54,
   "id": "d3ff8f6b-8773-4234-8f85-66b7daf8ef68",
   "metadata": {},
   "outputs": [
    {
     "data": {
      "text/html": [
       "<div>\n",
       "<style scoped>\n",
       "    .dataframe tbody tr th:only-of-type {\n",
       "        vertical-align: middle;\n",
       "    }\n",
       "\n",
       "    .dataframe tbody tr th {\n",
       "        vertical-align: top;\n",
       "    }\n",
       "\n",
       "    .dataframe thead th {\n",
       "        text-align: right;\n",
       "    }\n",
       "</style>\n",
       "<table border=\"1\" class=\"dataframe\">\n",
       "  <thead>\n",
       "    <tr style=\"text-align: right;\">\n",
       "      <th></th>\n",
       "      <th>user_id</th>\n",
       "      <th>checkout_time</th>\n",
       "    </tr>\n",
       "  </thead>\n",
       "  <tbody>\n",
       "    <tr>\n",
       "      <th>0</th>\n",
       "      <td>d33bdc47-4afa-45bc-b4e4-dbe948e34c0d</td>\n",
       "      <td>2017-06-25 09:29:00</td>\n",
       "    </tr>\n",
       "    <tr>\n",
       "      <th>1</th>\n",
       "      <td>4ac186f0-9954-4fea-8a27-c081e428e34e</td>\n",
       "      <td>2017-04-07 20:11:00</td>\n",
       "    </tr>\n",
       "    <tr>\n",
       "      <th>2</th>\n",
       "      <td>3c9c78a7-124a-4b77-8d2e-e1926e011e7d</td>\n",
       "      <td>2017-07-13 11:38:00</td>\n",
       "    </tr>\n",
       "    <tr>\n",
       "      <th>3</th>\n",
       "      <td>89fe330a-8966-4756-8f7c-3bdbcd47279a</td>\n",
       "      <td>2017-04-20 16:15:00</td>\n",
       "    </tr>\n",
       "    <tr>\n",
       "      <th>4</th>\n",
       "      <td>3ccdaf69-2d30-40de-b083-51372881aedd</td>\n",
       "      <td>2017-01-08 20:52:00</td>\n",
       "    </tr>\n",
       "  </tbody>\n",
       "</table>\n",
       "</div>"
      ],
      "text/plain": [
       "                                user_id        checkout_time\n",
       "0  d33bdc47-4afa-45bc-b4e4-dbe948e34c0d  2017-06-25 09:29:00\n",
       "1  4ac186f0-9954-4fea-8a27-c081e428e34e  2017-04-07 20:11:00\n",
       "2  3c9c78a7-124a-4b77-8d2e-e1926e011e7d  2017-07-13 11:38:00\n",
       "3  89fe330a-8966-4756-8f7c-3bdbcd47279a  2017-04-20 16:15:00\n",
       "4  3ccdaf69-2d30-40de-b083-51372881aedd  2017-01-08 20:52:00"
      ]
     },
     "execution_count": 54,
     "metadata": {},
     "output_type": "execute_result"
    }
   ],
   "source": [
    "purchase.head()"
   ]
  },
  {
   "cell_type": "code",
   "execution_count": 63,
   "id": "0db3dfbf-f097-485f-8b1f-576260104e02",
   "metadata": {},
   "outputs": [
    {
     "name": "stdout",
     "output_type": "stream",
     "text": [
      "<class 'pandas.core.frame.DataFrame'>\n",
      "RangeIndex: 2000 entries, 0 to 1999\n",
      "Data columns (total 2 columns):\n",
      " #   Column      Non-Null Count  Dtype \n",
      "---  ------      --------------  ----- \n",
      " 0   user_id     2000 non-null   object\n",
      " 1   visit_time  2000 non-null   object\n",
      "dtypes: object(2)\n",
      "memory usage: 31.4+ KB\n"
     ]
    }
   ],
   "source": [
    "visits.info()"
   ]
  },
  {
   "cell_type": "markdown",
   "id": "37f366c0-4625-45b5-a43c-974135576b8e",
   "metadata": {},
   "source": [
    "### 2. Combine visits and cart using a left merge."
   ]
  },
  {
   "cell_type": "code",
   "execution_count": 82,
   "id": "089c1901-7bbb-4d35-8efe-d7499cfb61b2",
   "metadata": {},
   "outputs": [
    {
     "data": {
      "text/html": [
       "<div>\n",
       "<style scoped>\n",
       "    .dataframe tbody tr th:only-of-type {\n",
       "        vertical-align: middle;\n",
       "    }\n",
       "\n",
       "    .dataframe tbody tr th {\n",
       "        vertical-align: top;\n",
       "    }\n",
       "\n",
       "    .dataframe thead th {\n",
       "        text-align: right;\n",
       "    }\n",
       "</style>\n",
       "<table border=\"1\" class=\"dataframe\">\n",
       "  <thead>\n",
       "    <tr style=\"text-align: right;\">\n",
       "      <th></th>\n",
       "      <th>user_id</th>\n",
       "      <th>visit_time</th>\n",
       "      <th>cart_time</th>\n",
       "    </tr>\n",
       "  </thead>\n",
       "  <tbody>\n",
       "    <tr>\n",
       "      <th>0</th>\n",
       "      <td>943647ef-3682-4750-a2e1-918ba6f16188</td>\n",
       "      <td>2017-04-07 15:14:00</td>\n",
       "      <td>NaN</td>\n",
       "    </tr>\n",
       "    <tr>\n",
       "      <th>1</th>\n",
       "      <td>0c3a3dd0-fb64-4eac-bf84-ba069ce409f2</td>\n",
       "      <td>2017-01-26 14:24:00</td>\n",
       "      <td>2017-01-26 14:44:00</td>\n",
       "    </tr>\n",
       "    <tr>\n",
       "      <th>2</th>\n",
       "      <td>6e0b2d60-4027-4d9a-babd-0e7d40859fb1</td>\n",
       "      <td>2017-08-20 08:23:00</td>\n",
       "      <td>2017-08-20 08:31:00</td>\n",
       "    </tr>\n",
       "    <tr>\n",
       "      <th>3</th>\n",
       "      <td>6879527e-c5a6-4d14-b2da-50b85212b0ab</td>\n",
       "      <td>2017-11-04 18:15:00</td>\n",
       "      <td>NaN</td>\n",
       "    </tr>\n",
       "    <tr>\n",
       "      <th>4</th>\n",
       "      <td>a84327ff-5daa-4ba1-b789-d5b4caf81e96</td>\n",
       "      <td>2017-02-27 11:25:00</td>\n",
       "      <td>NaN</td>\n",
       "    </tr>\n",
       "  </tbody>\n",
       "</table>\n",
       "</div>"
      ],
      "text/plain": [
       "                                user_id           visit_time  \\\n",
       "0  943647ef-3682-4750-a2e1-918ba6f16188  2017-04-07 15:14:00   \n",
       "1  0c3a3dd0-fb64-4eac-bf84-ba069ce409f2  2017-01-26 14:24:00   \n",
       "2  6e0b2d60-4027-4d9a-babd-0e7d40859fb1  2017-08-20 08:23:00   \n",
       "3  6879527e-c5a6-4d14-b2da-50b85212b0ab  2017-11-04 18:15:00   \n",
       "4  a84327ff-5daa-4ba1-b789-d5b4caf81e96  2017-02-27 11:25:00   \n",
       "\n",
       "             cart_time  \n",
       "0                  NaN  \n",
       "1  2017-01-26 14:44:00  \n",
       "2  2017-08-20 08:31:00  \n",
       "3                  NaN  \n",
       "4                  NaN  "
      ]
     },
     "execution_count": 82,
     "metadata": {},
     "output_type": "execute_result"
    }
   ],
   "source": [
    "visits_cart = pd.merge(left=visits,right=cart,how=\"left\")\n",
    "visits_cart.head()"
   ]
  },
  {
   "cell_type": "markdown",
   "id": "84e0ab77-ba97-440e-ad6f-f80c24b6dc47",
   "metadata": {},
   "source": [
    "### 3. How long is your merged DataFrame?"
   ]
  },
  {
   "cell_type": "code",
   "execution_count": 75,
   "id": "7a7e77a3-a50c-4343-87be-8097dad6648d",
   "metadata": {},
   "outputs": [
    {
     "data": {
      "text/plain": [
       "(2000, 3)"
      ]
     },
     "execution_count": 75,
     "metadata": {},
     "output_type": "execute_result"
    }
   ],
   "source": [
    "visits_cart.shape"
   ]
  },
  {
   "cell_type": "markdown",
   "id": "edda0ead-8f7c-4f3c-bc2f-1ae850d2c771",
   "metadata": {},
   "source": [
    "### 4. How many of the timestamps are null for the column cart_time?\n",
    "\n",
    "### What do these null rows mean?"
   ]
  },
  {
   "cell_type": "code",
   "execution_count": 78,
   "id": "5d30d4d4-1263-43e8-9a8d-4d686060461b",
   "metadata": {},
   "outputs": [
    {
     "data": {
      "text/plain": [
       "1652"
      ]
     },
     "execution_count": 78,
     "metadata": {},
     "output_type": "execute_result"
    }
   ],
   "source": [
    "visits_cart.cart_time.isna().sum()"
   ]
  },
  {
   "cell_type": "markdown",
   "id": "0aee61d9-f5e1-4e8e-8ebe-209e138d3fea",
   "metadata": {},
   "source": [
    "##### these null values mean that a customer visited the website but did not add any item to the cart"
   ]
  },
  {
   "cell_type": "markdown",
   "id": "8942c0ea-8af9-47b4-bf58-6378b490d61c",
   "metadata": {},
   "source": [
    "### 5. What percent of users who visited Cool T-Shirts Inc. ended up not placing a t-shirt in their cart?\n"
   ]
  },
  {
   "cell_type": "code",
   "execution_count": 101,
   "id": "18be5ad0-74d8-480e-a440-bac8dd98aaa8",
   "metadata": {},
   "outputs": [
    {
     "name": "stdout",
     "output_type": "stream",
     "text": [
      "\n",
      "82.6 % of users who visited Cool T-Shirts Inc. ended up not placing a t-shirt in their cart\n",
      "\n"
     ]
    }
   ],
   "source": [
    "print(f\"\"\"\n",
    "{(1652/2000)*100} % of users who visited Cool T-Shirts Inc. ended up not placing a t-shirt in their cart\n",
    "\"\"\")"
   ]
  },
  {
   "cell_type": "markdown",
   "id": "43988eb2-cdfc-4c1d-921d-c1945a6d7e8c",
   "metadata": {},
   "source": [
    "### 6. Repeat the left merge for cart and checkout and count null values. What percentage of users put items in their cart, but did not proceed to checkout?\n"
   ]
  },
  {
   "cell_type": "code",
   "execution_count": 104,
   "id": "6a205036-3cfc-4365-bf1b-a7f1c0240379",
   "metadata": {},
   "outputs": [
    {
     "data": {
      "text/plain": [
       "(482, 3)"
      ]
     },
     "execution_count": 104,
     "metadata": {},
     "output_type": "execute_result"
    }
   ],
   "source": [
    "cart_checkout = pd.merge(left=cart,right=checkout,how=\"left\")\n",
    "cart_checkout.shape"
   ]
  },
  {
   "cell_type": "code",
   "execution_count": 118,
   "id": "26adee35-57fa-400f-a746-5dbede6414ef",
   "metadata": {},
   "outputs": [
    {
     "data": {
      "text/plain": [
       "122"
      ]
     },
     "execution_count": 118,
     "metadata": {},
     "output_type": "execute_result"
    }
   ],
   "source": [
    "cart_checkout.checkout_time.isna().sum()"
   ]
  },
  {
   "cell_type": "code",
   "execution_count": 124,
   "id": "3a8b6926-1ac9-4d65-af46-be25410bdd6c",
   "metadata": {},
   "outputs": [
    {
     "name": "stdout",
     "output_type": "stream",
     "text": [
      "\n",
      "25.31% of users put items in their cart, but did not proceed to checkout\n",
      "\n"
     ]
    }
   ],
   "source": [
    "print(f\"\"\"\n",
    "{( (122/482)*100):.2f}% of users put items in their cart, but did not proceed to checkout\n",
    "\"\"\")"
   ]
  },
  {
   "cell_type": "markdown",
   "id": "ab76e709-0215-48a6-ae7b-6208bbad4cee",
   "metadata": {},
   "source": [
    "### 7. Merge all four steps of the funnel, in order, using a series of left merges. Save the results to the variable all_data.\n",
    "\n",
    "### Examine the result using print and head"
   ]
  },
  {
   "cell_type": "code",
   "execution_count": 129,
   "id": "834ae9d0-d516-4e6d-9374-222059d799ce",
   "metadata": {},
   "outputs": [],
   "source": [
    "all_data = visits.merge(cart,how=\"left\").merge(checkout,how=\"left\").merge(purchase,how=\"left\")"
   ]
  },
  {
   "cell_type": "code",
   "execution_count": 153,
   "id": "fb1ab0e7-07e2-48d1-b851-8ab44176459d",
   "metadata": {},
   "outputs": [
    {
     "data": {
      "text/plain": [
       "(2372, 5)"
      ]
     },
     "execution_count": 153,
     "metadata": {},
     "output_type": "execute_result"
    }
   ],
   "source": [
    "all_data.shape"
   ]
  },
  {
   "cell_type": "code",
   "execution_count": 155,
   "id": "1b5d46ac-bea9-406a-994c-5bd39c9483a5",
   "metadata": {},
   "outputs": [
    {
     "data": {
      "text/html": [
       "<div>\n",
       "<style scoped>\n",
       "    .dataframe tbody tr th:only-of-type {\n",
       "        vertical-align: middle;\n",
       "    }\n",
       "\n",
       "    .dataframe tbody tr th {\n",
       "        vertical-align: top;\n",
       "    }\n",
       "\n",
       "    .dataframe thead th {\n",
       "        text-align: right;\n",
       "    }\n",
       "</style>\n",
       "<table border=\"1\" class=\"dataframe\">\n",
       "  <thead>\n",
       "    <tr style=\"text-align: right;\">\n",
       "      <th></th>\n",
       "      <th>user_id</th>\n",
       "      <th>visit_time</th>\n",
       "      <th>cart_time</th>\n",
       "      <th>checkout_time</th>\n",
       "      <th>purchase_time</th>\n",
       "    </tr>\n",
       "  </thead>\n",
       "  <tbody>\n",
       "    <tr>\n",
       "      <th>0</th>\n",
       "      <td>943647ef-3682-4750-a2e1-918ba6f16188</td>\n",
       "      <td>2017-04-07 15:14:00</td>\n",
       "      <td>NaN</td>\n",
       "      <td>NaN</td>\n",
       "      <td>NaN</td>\n",
       "    </tr>\n",
       "    <tr>\n",
       "      <th>1</th>\n",
       "      <td>0c3a3dd0-fb64-4eac-bf84-ba069ce409f2</td>\n",
       "      <td>2017-01-26 14:24:00</td>\n",
       "      <td>2017-01-26 14:44:00</td>\n",
       "      <td>2017-01-26 14:54:00</td>\n",
       "      <td>2017-01-26 15:08:00</td>\n",
       "    </tr>\n",
       "    <tr>\n",
       "      <th>2</th>\n",
       "      <td>6e0b2d60-4027-4d9a-babd-0e7d40859fb1</td>\n",
       "      <td>2017-08-20 08:23:00</td>\n",
       "      <td>2017-08-20 08:31:00</td>\n",
       "      <td>NaN</td>\n",
       "      <td>NaN</td>\n",
       "    </tr>\n",
       "    <tr>\n",
       "      <th>3</th>\n",
       "      <td>6879527e-c5a6-4d14-b2da-50b85212b0ab</td>\n",
       "      <td>2017-11-04 18:15:00</td>\n",
       "      <td>NaN</td>\n",
       "      <td>NaN</td>\n",
       "      <td>NaN</td>\n",
       "    </tr>\n",
       "    <tr>\n",
       "      <th>4</th>\n",
       "      <td>a84327ff-5daa-4ba1-b789-d5b4caf81e96</td>\n",
       "      <td>2017-02-27 11:25:00</td>\n",
       "      <td>NaN</td>\n",
       "      <td>NaN</td>\n",
       "      <td>NaN</td>\n",
       "    </tr>\n",
       "  </tbody>\n",
       "</table>\n",
       "</div>"
      ],
      "text/plain": [
       "                                user_id           visit_time  \\\n",
       "0  943647ef-3682-4750-a2e1-918ba6f16188  2017-04-07 15:14:00   \n",
       "1  0c3a3dd0-fb64-4eac-bf84-ba069ce409f2  2017-01-26 14:24:00   \n",
       "2  6e0b2d60-4027-4d9a-babd-0e7d40859fb1  2017-08-20 08:23:00   \n",
       "3  6879527e-c5a6-4d14-b2da-50b85212b0ab  2017-11-04 18:15:00   \n",
       "4  a84327ff-5daa-4ba1-b789-d5b4caf81e96  2017-02-27 11:25:00   \n",
       "\n",
       "             cart_time        checkout_time        purchase_time  \n",
       "0                  NaN                  NaN                  NaN  \n",
       "1  2017-01-26 14:44:00  2017-01-26 14:54:00  2017-01-26 15:08:00  \n",
       "2  2017-08-20 08:31:00                  NaN                  NaN  \n",
       "3                  NaN                  NaN                  NaN  \n",
       "4                  NaN                  NaN                  NaN  "
      ]
     },
     "execution_count": 155,
     "metadata": {},
     "output_type": "execute_result"
    }
   ],
   "source": [
    "all_data.head()"
   ]
  },
  {
   "cell_type": "code",
   "execution_count": 159,
   "id": "e8738e12-4f6f-4d25-b488-e646226d264e",
   "metadata": {},
   "outputs": [
    {
     "data": {
      "text/plain": [
       "(2000, 3)"
      ]
     },
     "execution_count": 159,
     "metadata": {},
     "output_type": "execute_result"
    }
   ],
   "source": [
    "visits_cart.shape"
   ]
  },
  {
   "cell_type": "code",
   "execution_count": 143,
   "id": "7c7c975b-a009-455b-a2e5-cf7be65a9bb5",
   "metadata": {},
   "outputs": [
    {
     "data": {
      "text/plain": [
       "(482, 3)"
      ]
     },
     "execution_count": 143,
     "metadata": {},
     "output_type": "execute_result"
    }
   ],
   "source": [
    "cart_checkout.shape"
   ]
  },
  {
   "cell_type": "code",
   "execution_count": 170,
   "id": "e79f966a-933b-4f04-bb3d-862ded342c53",
   "metadata": {},
   "outputs": [
    {
     "data": {
      "text/plain": [
       "(2000, 3)"
      ]
     },
     "execution_count": 170,
     "metadata": {},
     "output_type": "execute_result"
    }
   ],
   "source": [
    "# Perform a left join between 'visits' and 'cart' DataFrames\n",
    "# This keeps all rows from 'visits' and matching rows from 'cart'\n",
    "# .shape returns the dimensions (rows, columns) of the resulting DataFrame\n",
    "visits.merge(cart,how=\"left\").shape"
   ]
  },
  {
   "cell_type": "code",
   "execution_count": 172,
   "id": "ab31617a-c640-4a68-b5d9-dbb8b3028070",
   "metadata": {},
   "outputs": [
    {
     "data": {
      "text/plain": [
       "(2134, 4)"
      ]
     },
     "execution_count": 172,
     "metadata": {},
     "output_type": "execute_result"
    }
   ],
   "source": [
    "# Perform a left join of 'visits' with 'cart', then another left join with 'checkout'\n",
    "# The shape attribute returns a tuple with the dimensions (rows, columns) of the resulting DataFrame\n",
    "visits.merge(cart,how=\"left\").merge(checkout,how=\"left\").shape"
   ]
  },
  {
   "cell_type": "code",
   "execution_count": 167,
   "id": "6c838d8a-406b-4e2b-bbb5-8ccbfce2a972",
   "metadata": {},
   "outputs": [
    {
     "data": {
      "text/plain": [
       "(2372, 5)"
      ]
     },
     "execution_count": 167,
     "metadata": {},
     "output_type": "execute_result"
    }
   ],
   "source": [
    "visits.merge(cart,how=\"left\").merge(checkout,how=\"left\").merge(purchase,how=\"left\").shape"
   ]
  },
  {
   "cell_type": "markdown",
   "id": "22cd452f-d59d-4a2d-8d3d-d7ea8cb686ab",
   "metadata": {},
   "source": [
    "### 8.What percentage of users proceeded to checkout, but did not purchase a t-shirt?"
   ]
  },
  {
   "cell_type": "code",
   "execution_count": 215,
   "id": "e62a0be1-fc88-4e23-8724-8f916385a1bb",
   "metadata": {},
   "outputs": [
    {
     "data": {
      "text/plain": [
       "598"
      ]
     },
     "execution_count": 215,
     "metadata": {},
     "output_type": "execute_result"
    }
   ],
   "source": [
    "all_data.checkout_time.notna().sum()"
   ]
  },
  {
   "cell_type": "code",
   "execution_count": 207,
   "id": "1375216c-0697-476f-878c-83b974785de3",
   "metadata": {},
   "outputs": [
    {
     "data": {
      "text/plain": [
       "101"
      ]
     },
     "execution_count": 207,
     "metadata": {},
     "output_type": "execute_result"
    }
   ],
   "source": [
    "len (all_data[all_data.checkout_time.notna() & all_data.purchase_time.isna()])"
   ]
  },
  {
   "cell_type": "code",
   "execution_count": 199,
   "id": "48c3f670-c5b4-49a7-a49c-001e4e66237a",
   "metadata": {},
   "outputs": [
    {
     "data": {
      "text/plain": [
       "2372"
      ]
     },
     "execution_count": 199,
     "metadata": {},
     "output_type": "execute_result"
    }
   ],
   "source": [
    "len(all_data)"
   ]
  },
  {
   "cell_type": "code",
   "execution_count": 217,
   "id": "19af167e-2d5c-42df-a11b-4f7eafd1d905",
   "metadata": {},
   "outputs": [
    {
     "name": "stdout",
     "output_type": "stream",
     "text": [
      "\n",
      "16.89% of users proceeded to checkout, but did not purchase a t-shirt\n",
      "\n"
     ]
    }
   ],
   "source": [
    "print(f\"\"\"\n",
    "{( (101/598)*100):.2f}% of users proceeded to checkout, but did not purchase a t-shirt\n",
    "\"\"\")"
   ]
  },
  {
   "cell_type": "markdown",
   "id": "16a8c30e-98ba-464c-babf-3c86300be69f",
   "metadata": {},
   "source": [
    "### 9. Which step of the funnel is weakest (i.e., has the highest percentage of users not completing it)?"
   ]
  },
  {
   "cell_type": "code",
   "execution_count": 242,
   "id": "7c2ea0e3-3528-4aac-8471-2ef089ac4156",
   "metadata": {},
   "outputs": [
    {
     "name": "stdout",
     "output_type": "stream",
     "text": [
      "Visit → Cart Drop-off: 69.65%\n",
      "Cart → Checkout Drop-off: 16.94%\n",
      "Checkout → Purchase Drop-off: 16.89%\n"
     ]
    }
   ],
   "source": [
    "# Users who visited\n",
    "total_visits = len(all_data)\n",
    "\n",
    "# Users who added to cart (non-null cart_time)\n",
    "cart_users = all_data.cart_time.notna().sum()\n",
    "\n",
    "# Users who checked out (non-null checkout_time)\n",
    "checkout_users = all_data.checkout_time.notna().sum()\n",
    "\n",
    "# Users who purchased (non-null purchase_time)\n",
    "purchase_users = all_data.purchase_time.notna().sum()\n",
    "\n",
    "# Drop-off rates based on the previous step\n",
    "visit_to_cart_dropoff = (1 - cart_users / total_visits) * 100\n",
    "cart_to_checkout_dropoff = (1 - checkout_users / cart_users) * 100\n",
    "checkout_to_purchase_dropoff = (1 - purchase_users / checkout_users) * 100\n",
    "\n",
    "print(f\"Visit → Cart Drop-off: {visit_to_cart_dropoff:.2f}%\")\n",
    "print(f\"Cart → Checkout Drop-off: {cart_to_checkout_dropoff:.2f}%\")\n",
    "print(f\"Checkout → Purchase Drop-off: {checkout_to_purchase_dropoff:.2f}%\")\n"
   ]
  },
  {
   "cell_type": "markdown",
   "id": "ed258627-e081-4714-9673-ab1e4f7d0a65",
   "metadata": {},
   "source": [
    "### adding to cart is the weakest step as the drop of rate is much higher"
   ]
  },
  {
   "cell_type": "markdown",
   "id": "4973d569-a312-4ce9-98e6-cf5b0632da0e",
   "metadata": {},
   "source": [
    "## Average Time to Purchase \n",
    "### 10. Using the giant merged DataFrame all_data that you created, let’s calculate the average time from initial visit to final purchase. Start by adding the following column to your DataFrame:\n",
    "\n",
    "##### all_data['time_to_purchase'] = \\\n",
    "#####     all_data.purchase_time - \\\n",
    "#####     all_data.visit_time"
   ]
  },
  {
   "cell_type": "code",
   "execution_count": 278,
   "id": "72711c56-c304-4abd-90dc-e3dfb5050cab",
   "metadata": {},
   "outputs": [],
   "source": [
    "all_data[\"purchase_time\"] = pd.to_datetime(all_data[\"purchase_time\"])\n",
    "all_data[\"cart_time\"] = pd.to_datetime(all_data[\"cart_time\"])\n",
    "all_data[\"visit_time\"] = pd.to_datetime(all_data[\"visit_time\"])\n",
    "\n",
    "all_data[\"time_to_purchase\"] = all_data[\"purchase_time\"] - all_data[\"visit_time\"]"
   ]
  },
  {
   "cell_type": "markdown",
   "id": "c4e151aa-93e3-4988-9bf3-28b58be83cc9",
   "metadata": {},
   "source": [
    "### 11. Examine the results using: print(all_data.time_to_purchase)"
   ]
  },
  {
   "cell_type": "code",
   "execution_count": 285,
   "id": "0dcb95a6-91f8-4990-8271-a4463205e29c",
   "metadata": {},
   "outputs": [
    {
     "name": "stdout",
     "output_type": "stream",
     "text": [
      "0                  NaT\n",
      "1      0 days 00:44:00\n",
      "2                  NaT\n",
      "3                  NaT\n",
      "4                  NaT\n",
      "             ...      \n",
      "2367               NaT\n",
      "2368               NaT\n",
      "2369               NaT\n",
      "2370               NaT\n",
      "2371               NaT\n",
      "Name: time_to_purchase, Length: 2372, dtype: timedelta64[ns]\n"
     ]
    }
   ],
   "source": [
    "print(all_data.time_to_purchase)"
   ]
  },
  {
   "cell_type": "markdown",
   "id": "d163b404-1efa-4e19-8cf4-362f97a1a7a3",
   "metadata": {},
   "source": [
    "### 12. Calculate the average time to purchase using the following code: print(all_data.time_to_purchase.mean())"
   ]
  },
  {
   "cell_type": "code",
   "execution_count": 282,
   "id": "cc058a0c-e06e-4c7a-aaf2-156eb59e0468",
   "metadata": {},
   "outputs": [
    {
     "name": "stdout",
     "output_type": "stream",
     "text": [
      "Average time from visit to purchase: 0 days 00:43:53.360160965\n"
     ]
    }
   ],
   "source": [
    "average_time = all_data[\"time_to_purchase\"].mean()\n",
    "print(f\"Average time from visit to purchase: {average_time}\")"
   ]
  },
  {
   "cell_type": "code",
   "execution_count": null,
   "id": "03017c4c-1d21-46af-a635-31d33214a9c9",
   "metadata": {},
   "outputs": [],
   "source": []
  },
  {
   "cell_type": "code",
   "execution_count": null,
   "id": "41a1c23a-63b3-4794-b370-521e90699a9b",
   "metadata": {},
   "outputs": [],
   "source": []
  },
  {
   "cell_type": "code",
   "execution_count": null,
   "id": "ab777c9b-2aa5-4629-bf25-485d4fae0541",
   "metadata": {},
   "outputs": [],
   "source": []
  },
  {
   "cell_type": "code",
   "execution_count": null,
   "id": "8393c89e-323a-4260-9da3-8b475be36d03",
   "metadata": {},
   "outputs": [],
   "source": []
  },
  {
   "cell_type": "code",
   "execution_count": null,
   "id": "3836dd23-8e7c-4a1e-9710-513ad43ed788",
   "metadata": {},
   "outputs": [],
   "source": []
  },
  {
   "cell_type": "code",
   "execution_count": null,
   "id": "23d571b0-f58a-4c0a-bc71-fe16eb2b1e4b",
   "metadata": {},
   "outputs": [],
   "source": []
  },
  {
   "cell_type": "code",
   "execution_count": null,
   "id": "f2a2a4c2-27a0-4a63-81d2-ed3aac6d73e5",
   "metadata": {},
   "outputs": [],
   "source": []
  },
  {
   "cell_type": "code",
   "execution_count": null,
   "id": "afde4791-92e9-4699-b945-2fd7546aebbe",
   "metadata": {},
   "outputs": [],
   "source": []
  },
  {
   "cell_type": "code",
   "execution_count": null,
   "id": "f23906e6-60ee-44fc-80af-296971ce2127",
   "metadata": {},
   "outputs": [],
   "source": []
  },
  {
   "cell_type": "code",
   "execution_count": null,
   "id": "5227e8d9-e9e3-44ce-bafc-8ce7248fa0e2",
   "metadata": {},
   "outputs": [],
   "source": []
  }
 ],
 "metadata": {
  "kernelspec": {
   "display_name": "Python [conda env:base] *",
   "language": "python",
   "name": "conda-base-py"
  },
  "language_info": {
   "codemirror_mode": {
    "name": "ipython",
    "version": 3
   },
   "file_extension": ".py",
   "mimetype": "text/x-python",
   "name": "python",
   "nbconvert_exporter": "python",
   "pygments_lexer": "ipython3",
   "version": "3.12.7"
  }
 },
 "nbformat": 4,
 "nbformat_minor": 5
}
