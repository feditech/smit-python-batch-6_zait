{
 "cells": [
  {
   "cell_type": "markdown",
   "id": "583a7a95-14ec-4aa8-85c9-a02eef395339",
   "metadata": {},
   "source": [
    "# Pandas Assignment 2"
   ]
  },
  {
   "cell_type": "markdown",
   "id": "25a47165-a95d-4444-b7bd-a9e5cdd89090",
   "metadata": {},
   "source": [
    "#### 1. Data for all of the locations of Petal Power is in the file inventory.csv. Load the data into a DataFrame called inventory.\n"
   ]
  },
  {
   "cell_type": "code",
   "execution_count": 3,
   "id": "f2d731a9-1ae8-46b4-aa6a-60b2f201fca5",
   "metadata": {},
   "outputs": [],
   "source": [
    "import pandas as pd"
   ]
  },
  {
   "cell_type": "code",
   "execution_count": 58,
   "id": "2bdc78a5-1aa8-4b9e-be5d-e3ea145bf85d",
   "metadata": {},
   "outputs": [],
   "source": [
    "inventory  = pd.read_csv(\"inventory.csv\")"
   ]
  },
  {
   "cell_type": "markdown",
   "id": "d662ab94-19a0-4ff6-ac3e-d26503df895f",
   "metadata": {},
   "source": [
    "#### 2. Inspect the first 10 rows of inventory."
   ]
  },
  {
   "cell_type": "code",
   "execution_count": 60,
   "id": "1f4343d2-4c39-428d-8962-8be99e851817",
   "metadata": {},
   "outputs": [
    {
     "data": {
      "text/html": [
       "<div>\n",
       "<style scoped>\n",
       "    .dataframe tbody tr th:only-of-type {\n",
       "        vertical-align: middle;\n",
       "    }\n",
       "\n",
       "    .dataframe tbody tr th {\n",
       "        vertical-align: top;\n",
       "    }\n",
       "\n",
       "    .dataframe thead th {\n",
       "        text-align: right;\n",
       "    }\n",
       "</style>\n",
       "<table border=\"1\" class=\"dataframe\">\n",
       "  <thead>\n",
       "    <tr style=\"text-align: right;\">\n",
       "      <th></th>\n",
       "      <th>location</th>\n",
       "      <th>product_type</th>\n",
       "      <th>product_description</th>\n",
       "      <th>quantity</th>\n",
       "      <th>price</th>\n",
       "    </tr>\n",
       "  </thead>\n",
       "  <tbody>\n",
       "    <tr>\n",
       "      <th>0</th>\n",
       "      <td>Staten Island</td>\n",
       "      <td>seeds</td>\n",
       "      <td>daisy</td>\n",
       "      <td>4</td>\n",
       "      <td>6.99</td>\n",
       "    </tr>\n",
       "    <tr>\n",
       "      <th>1</th>\n",
       "      <td>Staten Island</td>\n",
       "      <td>seeds</td>\n",
       "      <td>calla lily</td>\n",
       "      <td>46</td>\n",
       "      <td>19.99</td>\n",
       "    </tr>\n",
       "    <tr>\n",
       "      <th>2</th>\n",
       "      <td>Staten Island</td>\n",
       "      <td>seeds</td>\n",
       "      <td>tomato</td>\n",
       "      <td>85</td>\n",
       "      <td>13.99</td>\n",
       "    </tr>\n",
       "    <tr>\n",
       "      <th>3</th>\n",
       "      <td>Staten Island</td>\n",
       "      <td>garden tools</td>\n",
       "      <td>rake</td>\n",
       "      <td>4</td>\n",
       "      <td>13.99</td>\n",
       "    </tr>\n",
       "    <tr>\n",
       "      <th>4</th>\n",
       "      <td>Staten Island</td>\n",
       "      <td>garden tools</td>\n",
       "      <td>wheelbarrow</td>\n",
       "      <td>0</td>\n",
       "      <td>89.99</td>\n",
       "    </tr>\n",
       "    <tr>\n",
       "      <th>5</th>\n",
       "      <td>Staten Island</td>\n",
       "      <td>garden tools</td>\n",
       "      <td>spade</td>\n",
       "      <td>93</td>\n",
       "      <td>19.99</td>\n",
       "    </tr>\n",
       "    <tr>\n",
       "      <th>6</th>\n",
       "      <td>Staten Island</td>\n",
       "      <td>pest_control</td>\n",
       "      <td>insect killer</td>\n",
       "      <td>74</td>\n",
       "      <td>12.99</td>\n",
       "    </tr>\n",
       "    <tr>\n",
       "      <th>7</th>\n",
       "      <td>Staten Island</td>\n",
       "      <td>pest_control</td>\n",
       "      <td>weed killer</td>\n",
       "      <td>8</td>\n",
       "      <td>23.99</td>\n",
       "    </tr>\n",
       "    <tr>\n",
       "      <th>8</th>\n",
       "      <td>Staten Island</td>\n",
       "      <td>planter</td>\n",
       "      <td>20 inch terracotta planter</td>\n",
       "      <td>0</td>\n",
       "      <td>17.99</td>\n",
       "    </tr>\n",
       "    <tr>\n",
       "      <th>9</th>\n",
       "      <td>Staten Island</td>\n",
       "      <td>planter</td>\n",
       "      <td>8 inch plastic planter</td>\n",
       "      <td>53</td>\n",
       "      <td>3.99</td>\n",
       "    </tr>\n",
       "  </tbody>\n",
       "</table>\n",
       "</div>"
      ],
      "text/plain": [
       "        location  product_type         product_description  quantity  price\n",
       "0  Staten Island         seeds                       daisy         4   6.99\n",
       "1  Staten Island         seeds                  calla lily        46  19.99\n",
       "2  Staten Island         seeds                      tomato        85  13.99\n",
       "3  Staten Island  garden tools                        rake         4  13.99\n",
       "4  Staten Island  garden tools                 wheelbarrow         0  89.99\n",
       "5  Staten Island  garden tools                       spade        93  19.99\n",
       "6  Staten Island  pest_control               insect killer        74  12.99\n",
       "7  Staten Island  pest_control                 weed killer         8  23.99\n",
       "8  Staten Island       planter  20 inch terracotta planter         0  17.99\n",
       "9  Staten Island       planter      8 inch plastic planter        53   3.99"
      ]
     },
     "execution_count": 60,
     "metadata": {},
     "output_type": "execute_result"
    }
   ],
   "source": [
    "inventory.head(10)"
   ]
  },
  {
   "cell_type": "markdown",
   "id": "e92862a3-f8bc-45e2-9f8c-93f85f092793",
   "metadata": {},
   "source": [
    "#### 3. The first 10 rows represent data from your Staten Island location. Select these rows and save them to staten_island.\n"
   ]
  },
  {
   "cell_type": "code",
   "execution_count": 64,
   "id": "5a6a6e7f-a159-495d-a563-dc7cbe818517",
   "metadata": {},
   "outputs": [],
   "source": [
    "staten_island = inventory.head(10)"
   ]
  },
  {
   "cell_type": "code",
   "execution_count": 66,
   "id": "12be92fb-98e1-409a-92aa-17a1eb211f26",
   "metadata": {},
   "outputs": [
    {
     "data": {
      "text/html": [
       "<div>\n",
       "<style scoped>\n",
       "    .dataframe tbody tr th:only-of-type {\n",
       "        vertical-align: middle;\n",
       "    }\n",
       "\n",
       "    .dataframe tbody tr th {\n",
       "        vertical-align: top;\n",
       "    }\n",
       "\n",
       "    .dataframe thead th {\n",
       "        text-align: right;\n",
       "    }\n",
       "</style>\n",
       "<table border=\"1\" class=\"dataframe\">\n",
       "  <thead>\n",
       "    <tr style=\"text-align: right;\">\n",
       "      <th></th>\n",
       "      <th>location</th>\n",
       "      <th>product_type</th>\n",
       "      <th>product_description</th>\n",
       "      <th>quantity</th>\n",
       "      <th>price</th>\n",
       "    </tr>\n",
       "  </thead>\n",
       "  <tbody>\n",
       "    <tr>\n",
       "      <th>0</th>\n",
       "      <td>Staten Island</td>\n",
       "      <td>seeds</td>\n",
       "      <td>daisy</td>\n",
       "      <td>4</td>\n",
       "      <td>6.99</td>\n",
       "    </tr>\n",
       "    <tr>\n",
       "      <th>1</th>\n",
       "      <td>Staten Island</td>\n",
       "      <td>seeds</td>\n",
       "      <td>calla lily</td>\n",
       "      <td>46</td>\n",
       "      <td>19.99</td>\n",
       "    </tr>\n",
       "    <tr>\n",
       "      <th>2</th>\n",
       "      <td>Staten Island</td>\n",
       "      <td>seeds</td>\n",
       "      <td>tomato</td>\n",
       "      <td>85</td>\n",
       "      <td>13.99</td>\n",
       "    </tr>\n",
       "    <tr>\n",
       "      <th>3</th>\n",
       "      <td>Staten Island</td>\n",
       "      <td>garden tools</td>\n",
       "      <td>rake</td>\n",
       "      <td>4</td>\n",
       "      <td>13.99</td>\n",
       "    </tr>\n",
       "    <tr>\n",
       "      <th>4</th>\n",
       "      <td>Staten Island</td>\n",
       "      <td>garden tools</td>\n",
       "      <td>wheelbarrow</td>\n",
       "      <td>0</td>\n",
       "      <td>89.99</td>\n",
       "    </tr>\n",
       "    <tr>\n",
       "      <th>5</th>\n",
       "      <td>Staten Island</td>\n",
       "      <td>garden tools</td>\n",
       "      <td>spade</td>\n",
       "      <td>93</td>\n",
       "      <td>19.99</td>\n",
       "    </tr>\n",
       "    <tr>\n",
       "      <th>6</th>\n",
       "      <td>Staten Island</td>\n",
       "      <td>pest_control</td>\n",
       "      <td>insect killer</td>\n",
       "      <td>74</td>\n",
       "      <td>12.99</td>\n",
       "    </tr>\n",
       "    <tr>\n",
       "      <th>7</th>\n",
       "      <td>Staten Island</td>\n",
       "      <td>pest_control</td>\n",
       "      <td>weed killer</td>\n",
       "      <td>8</td>\n",
       "      <td>23.99</td>\n",
       "    </tr>\n",
       "    <tr>\n",
       "      <th>8</th>\n",
       "      <td>Staten Island</td>\n",
       "      <td>planter</td>\n",
       "      <td>20 inch terracotta planter</td>\n",
       "      <td>0</td>\n",
       "      <td>17.99</td>\n",
       "    </tr>\n",
       "    <tr>\n",
       "      <th>9</th>\n",
       "      <td>Staten Island</td>\n",
       "      <td>planter</td>\n",
       "      <td>8 inch plastic planter</td>\n",
       "      <td>53</td>\n",
       "      <td>3.99</td>\n",
       "    </tr>\n",
       "  </tbody>\n",
       "</table>\n",
       "</div>"
      ],
      "text/plain": [
       "        location  product_type         product_description  quantity  price\n",
       "0  Staten Island         seeds                       daisy         4   6.99\n",
       "1  Staten Island         seeds                  calla lily        46  19.99\n",
       "2  Staten Island         seeds                      tomato        85  13.99\n",
       "3  Staten Island  garden tools                        rake         4  13.99\n",
       "4  Staten Island  garden tools                 wheelbarrow         0  89.99\n",
       "5  Staten Island  garden tools                       spade        93  19.99\n",
       "6  Staten Island  pest_control               insect killer        74  12.99\n",
       "7  Staten Island  pest_control                 weed killer         8  23.99\n",
       "8  Staten Island       planter  20 inch terracotta planter         0  17.99\n",
       "9  Staten Island       planter      8 inch plastic planter        53   3.99"
      ]
     },
     "execution_count": 66,
     "metadata": {},
     "output_type": "execute_result"
    }
   ],
   "source": [
    "staten_island"
   ]
  },
  {
   "cell_type": "markdown",
   "id": "896f5a1b-110e-4d6c-9935-873c4308dc50",
   "metadata": {},
   "source": [
    "#### 4. A customer just emailed you asking what products are sold at your Staten Island location. Select the column product_description from staten_island and save it to the variable product_request."
   ]
  },
  {
   "cell_type": "code",
   "execution_count": 71,
   "id": "d364ed39-506a-4c88-a7d5-0d32ac5b0032",
   "metadata": {},
   "outputs": [
    {
     "data": {
      "text/plain": [
       "0                         daisy\n",
       "1                    calla lily\n",
       "2                        tomato\n",
       "3                          rake\n",
       "4                   wheelbarrow\n",
       "5                         spade\n",
       "6                 insect killer\n",
       "7                   weed killer\n",
       "8    20 inch terracotta planter\n",
       "9        8 inch plastic planter\n",
       "Name: product_description, dtype: object"
      ]
     },
     "execution_count": 71,
     "metadata": {},
     "output_type": "execute_result"
    }
   ],
   "source": [
    "product_request = staten_island[\"product_description\"]\n",
    "product_request"
   ]
  },
  {
   "cell_type": "markdown",
   "id": "35e3e108-05db-4f2a-9a6f-03c395e2b0c0",
   "metadata": {},
   "source": [
    "#### 5. Another customer emails to ask what types of seeds are sold at the Brooklyn location.\n"
   ]
  },
  {
   "cell_type": "code",
   "execution_count": 74,
   "id": "f13960ff-d9f1-45fa-a4bb-96c685cbeb59",
   "metadata": {},
   "outputs": [
    {
     "data": {
      "text/html": [
       "<div>\n",
       "<style scoped>\n",
       "    .dataframe tbody tr th:only-of-type {\n",
       "        vertical-align: middle;\n",
       "    }\n",
       "\n",
       "    .dataframe tbody tr th {\n",
       "        vertical-align: top;\n",
       "    }\n",
       "\n",
       "    .dataframe thead th {\n",
       "        text-align: right;\n",
       "    }\n",
       "</style>\n",
       "<table border=\"1\" class=\"dataframe\">\n",
       "  <thead>\n",
       "    <tr style=\"text-align: right;\">\n",
       "      <th></th>\n",
       "      <th>location</th>\n",
       "      <th>product_type</th>\n",
       "      <th>product_description</th>\n",
       "      <th>quantity</th>\n",
       "      <th>price</th>\n",
       "    </tr>\n",
       "  </thead>\n",
       "  <tbody>\n",
       "    <tr>\n",
       "      <th>10</th>\n",
       "      <td>Brooklyn</td>\n",
       "      <td>seeds</td>\n",
       "      <td>daisy</td>\n",
       "      <td>50</td>\n",
       "      <td>6.99</td>\n",
       "    </tr>\n",
       "    <tr>\n",
       "      <th>11</th>\n",
       "      <td>Brooklyn</td>\n",
       "      <td>seeds</td>\n",
       "      <td>calla lily</td>\n",
       "      <td>0</td>\n",
       "      <td>19.99</td>\n",
       "    </tr>\n",
       "    <tr>\n",
       "      <th>12</th>\n",
       "      <td>Brooklyn</td>\n",
       "      <td>seeds</td>\n",
       "      <td>tomato</td>\n",
       "      <td>0</td>\n",
       "      <td>13.99</td>\n",
       "    </tr>\n",
       "  </tbody>\n",
       "</table>\n",
       "</div>"
      ],
      "text/plain": [
       "    location product_type product_description  quantity  price\n",
       "10  Brooklyn        seeds               daisy        50   6.99\n",
       "11  Brooklyn        seeds          calla lily         0  19.99\n",
       "12  Brooklyn        seeds              tomato         0  13.99"
      ]
     },
     "execution_count": 74,
     "metadata": {},
     "output_type": "execute_result"
    }
   ],
   "source": [
    "seed_request = inventory[(inventory[\"location\"] == \"Brooklyn\" ) & (inventory[\"product_type\"] == \"seeds\")]\n",
    "seed_request"
   ]
  },
  {
   "cell_type": "markdown",
   "id": "4fbfacff-cb2d-44ab-8f4a-aad3c770dea8",
   "metadata": {},
   "source": [
    "#### 6. Add a column to inventory called in_stock which is True if quantity is greater than 0 and False if quantity equals 0."
   ]
  },
  {
   "cell_type": "code",
   "execution_count": 76,
   "id": "9b815205-1125-45b3-ae90-d0963c09024b",
   "metadata": {},
   "outputs": [],
   "source": [
    "inventory[\"in_stock\"] = inventory.quantity.apply(lambda qty: True if qty > 0 else False)"
   ]
  },
  {
   "cell_type": "code",
   "execution_count": 81,
   "id": "3834c424-0096-45db-859e-7cff09dde57a",
   "metadata": {},
   "outputs": [
    {
     "data": {
      "text/plain": [
       "in_stock\n",
       "True     24\n",
       "False     5\n",
       "Name: count, dtype: int64"
      ]
     },
     "execution_count": 81,
     "metadata": {},
     "output_type": "execute_result"
    }
   ],
   "source": [
    "inventory.in_stock.value_counts()"
   ]
  },
  {
   "cell_type": "markdown",
   "id": "94867596-920c-4adf-9fd7-8fb0188c11b2",
   "metadata": {},
   "source": [
    "#### 7. Petal Power wants to know how valuable their current inventory is.\n",
    "###### Create a column called total_value that is equal to price multiplied by quantity."
   ]
  },
  {
   "cell_type": "code",
   "execution_count": 93,
   "id": "e287dafc-4203-4b85-88c1-d4e9cd6a3f07",
   "metadata": {},
   "outputs": [
    {
     "data": {
      "text/plain": [
       "0       27.96\n",
       "1      919.54\n",
       "2     1189.15\n",
       "3       55.96\n",
       "4        0.00\n",
       "5     1859.07\n",
       "6      961.26\n",
       "7      191.92\n",
       "8        0.00\n",
       "9      211.47\n",
       "10     349.50\n",
       "11       0.00\n",
       "12       0.00\n",
       "13     209.85\n",
       "14    7379.18\n",
       "15     719.64\n",
       "16    1039.20\n",
       "17    1823.24\n",
       "18      89.95\n",
       "19     103.74\n",
       "20     398.43\n",
       "21    1899.05\n",
       "22     629.55\n",
       "23     293.79\n",
       "24    8819.02\n",
       "25     519.74\n",
       "26       0.00\n",
       "27     383.84\n",
       "28    1565.13\n",
       "Name: total_value, dtype: float64"
      ]
     },
     "execution_count": 93,
     "metadata": {},
     "output_type": "execute_result"
    }
   ],
   "source": [
    "inventory[\"total_value\"] = inventory.apply(lambda row: row[\"price\"] * row[\"quantity\"] , axis=1)\n",
    "inventory[\"total_value\"]"
   ]
  },
  {
   "cell_type": "markdown",
   "id": "a9acfdb9-d458-40af-b7b3-146d591142f8",
   "metadata": {},
   "source": [
    "#### 8. The Marketing department wants a complete description of each product for their catalog.\n",
    "\n",
    "##### The following lambda function combines product_type and product_description into a single string:\n",
    "\n",
    "###### combine_lambda = lambda row: \\\n",
    "######    '{} - {}'.format(row.product_type,\n",
    "######                     row.product_description)\n",
    "###### Paste this function into script.py."
   ]
  },
  {
   "cell_type": "code",
   "execution_count": 98,
   "id": "41ebb986-1304-49a6-a12c-92d0fed54fc5",
   "metadata": {},
   "outputs": [],
   "source": [
    "combine_lambda = lambda row: \\\n",
    "    '{} - {}'.format(row.product_type,\n",
    "                     row.product_description)"
   ]
  },
  {
   "cell_type": "markdown",
   "id": "cf34fb04-8964-4a60-95e0-705f120b79e5",
   "metadata": {},
   "source": [
    "#### 9. Using combine_lambda, create a new column in inventory called full_description that has the complete description of each product.\n"
   ]
  },
  {
   "cell_type": "code",
   "execution_count": 106,
   "id": "0da8e3fb-260a-4ce7-9135-d5c1ac3c02c6",
   "metadata": {},
   "outputs": [
    {
     "data": {
      "text/plain": [
       "0                            seeds - daisy\n",
       "1                       seeds - calla lily\n",
       "2                           seeds - tomato\n",
       "3                      garden tools - rake\n",
       "4               garden tools - wheelbarrow\n",
       "5                     garden tools - spade\n",
       "6             pest_control - insect killer\n",
       "7               pest_control - weed killer\n",
       "8     planter - 20 inch terracotta planter\n",
       "9         planter - 8 inch plastic planter\n",
       "10                           seeds - daisy\n",
       "11                      seeds - calla lily\n",
       "12                          seeds - tomato\n",
       "13                     garden tools - rake\n",
       "14              garden tools - wheelbarrow\n",
       "15                    garden tools - spade\n",
       "16            pest_control - insect killer\n",
       "17              pest_control - weed killer\n",
       "18    planter - 20 inch terracotta planter\n",
       "19        planter - 8 inch plastic planter\n",
       "20                           seeds - daisy\n",
       "21                      seeds - calla lily\n",
       "22                          seeds - tomato\n",
       "23                     garden tools - rake\n",
       "24              garden tools - wheelbarrow\n",
       "25                    garden tools - spade\n",
       "26            pest_control - insect killer\n",
       "27              pest_control - weed killer\n",
       "28    planter - 20 inch terracotta planter\n",
       "Name: full_description, dtype: object"
      ]
     },
     "execution_count": 106,
     "metadata": {},
     "output_type": "execute_result"
    }
   ],
   "source": [
    "inventory[\"full_description\"] = inventory.apply(combine_lambda,axis=1)\n",
    "inventory[\"full_description\"]"
   ]
  },
  {
   "cell_type": "code",
   "execution_count": null,
   "id": "62fd281f-3839-4460-933b-e373c7889e54",
   "metadata": {},
   "outputs": [],
   "source": [
    "inventory.drop([\"complete description\"])"
   ]
  },
  {
   "cell_type": "code",
   "execution_count": null,
   "id": "5e5861f5-52c5-41c6-80e5-f4e3d5f9952b",
   "metadata": {},
   "outputs": [],
   "source": []
  },
  {
   "cell_type": "code",
   "execution_count": null,
   "id": "08745319-4a0c-4240-8419-ccb6d6a23186",
   "metadata": {},
   "outputs": [],
   "source": []
  },
  {
   "cell_type": "code",
   "execution_count": null,
   "id": "2d9a3cbc-2b13-4f53-8746-1483c7d68e59",
   "metadata": {},
   "outputs": [],
   "source": []
  },
  {
   "cell_type": "code",
   "execution_count": null,
   "id": "b05005f7-1211-4e76-ab3d-040bfcc07518",
   "metadata": {},
   "outputs": [],
   "source": []
  },
  {
   "cell_type": "code",
   "execution_count": null,
   "id": "78564e04-eea3-46dd-a033-fcf238f410bf",
   "metadata": {},
   "outputs": [],
   "source": []
  },
  {
   "cell_type": "code",
   "execution_count": null,
   "id": "d59f00ef-3885-4e33-ba75-da2fff85f13e",
   "metadata": {},
   "outputs": [],
   "source": []
  },
  {
   "cell_type": "code",
   "execution_count": null,
   "id": "36f676a0-fe4f-41b1-aa57-c13fdd1335d9",
   "metadata": {},
   "outputs": [],
   "source": []
  },
  {
   "cell_type": "code",
   "execution_count": null,
   "id": "d2319f62-c762-456c-a7e1-ad37a4cda570",
   "metadata": {},
   "outputs": [],
   "source": []
  },
  {
   "cell_type": "code",
   "execution_count": null,
   "id": "a1ea3dd0-879f-4dcb-95fc-2d276e7ef16d",
   "metadata": {},
   "outputs": [],
   "source": []
  }
 ],
 "metadata": {
  "kernelspec": {
   "display_name": "Python [conda env:base] *",
   "language": "python",
   "name": "conda-base-py"
  },
  "language_info": {
   "codemirror_mode": {
    "name": "ipython",
    "version": 3
   },
   "file_extension": ".py",
   "mimetype": "text/x-python",
   "name": "python",
   "nbconvert_exporter": "python",
   "pygments_lexer": "ipython3",
   "version": "3.12.7"
  }
 },
 "nbformat": 4,
 "nbformat_minor": 5
}
