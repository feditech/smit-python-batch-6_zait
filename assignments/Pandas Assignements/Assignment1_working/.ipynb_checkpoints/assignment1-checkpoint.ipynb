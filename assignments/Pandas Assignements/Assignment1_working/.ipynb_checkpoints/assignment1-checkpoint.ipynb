{
 "cells": [
  {
   "cell_type": "code",
   "execution_count": 3,
   "id": "21f565a4-94eb-48c2-be5f-06439c726952",
   "metadata": {},
   "outputs": [],
   "source": [
    "import pandas as pd"
   ]
  },
  {
   "cell_type": "code",
   "execution_count": 10,
   "id": "42443cdf-0c45-4ada-a138-f570d33ec0d7",
   "metadata": {},
   "outputs": [],
   "source": [
    "state0 = pd.read_csv(\"states0.csv\").drop(\"Unnamed: 0\",axis=1)"
   ]
  },
  {
   "cell_type": "code",
   "execution_count": 5,
   "id": "83dcaeb9-775e-48a9-b531-4fa376de531a",
   "metadata": {},
   "outputs": [],
   "source": [
    "dataframes =[]\n",
    "for i in range(10):\n",
    "    dataframes.append(pd.read_csv(f\"states{i}.csv\").drop(\"Unnamed: 0\",axis=1))"
   ]
  },
  {
   "cell_type": "code",
   "execution_count": 11,
   "id": "230ba67c-8bc2-483e-8ca9-f739dbf7259c",
   "metadata": {},
   "outputs": [
    {
     "ename": "SyntaxError",
     "evalue": "incomplete input (4155345654.py, line 2)",
     "output_type": "error",
     "traceback": [
      "\u001b[1;36m  Cell \u001b[1;32mIn[11], line 2\u001b[1;36m\u001b[0m\n\u001b[1;33m    \u001b[0m\n\u001b[1;37m    ^\u001b[0m\n\u001b[1;31mSyntaxError\u001b[0m\u001b[1;31m:\u001b[0m incomplete input\n"
     ]
    }
   ],
   "source": [
    "data=pd.DataFrame()\n",
    "for i in range(10):  "
   ]
  },
  {
   "cell_type": "code",
   "execution_count": null,
   "id": "80553824-3d3f-46de-81e1-8f3ac195fa0d",
   "metadata": {},
   "outputs": [],
   "source": []
  },
  {
   "cell_type": "code",
   "execution_count": null,
   "id": "f9f83dd4-d7ca-4a6b-8bb3-b565071e42dc",
   "metadata": {},
   "outputs": [],
   "source": []
  },
  {
   "cell_type": "code",
   "execution_count": null,
   "id": "fa0f26f8-4eb0-4691-b6a4-8ac426c1b452",
   "metadata": {},
   "outputs": [],
   "source": []
  },
  {
   "cell_type": "code",
   "execution_count": null,
   "id": "8e69aa2c-7d19-4ff0-b810-76a398732885",
   "metadata": {},
   "outputs": [],
   "source": []
  },
  {
   "cell_type": "code",
   "execution_count": null,
   "id": "b1d37395-2875-4a46-a52a-76fb6449a355",
   "metadata": {},
   "outputs": [],
   "source": []
  },
  {
   "cell_type": "code",
   "execution_count": null,
   "id": "9c4e98de-320f-49d5-ad49-266f9b17d077",
   "metadata": {},
   "outputs": [],
   "source": []
  },
  {
   "cell_type": "code",
   "execution_count": null,
   "id": "59a24c33-5f6d-4a87-903d-3740f77ff874",
   "metadata": {},
   "outputs": [],
   "source": []
  },
  {
   "cell_type": "code",
   "execution_count": null,
   "id": "4bea9ed5-d44e-4776-b3d8-6d8588eb9a95",
   "metadata": {},
   "outputs": [],
   "source": []
  },
  {
   "cell_type": "code",
   "execution_count": null,
   "id": "dc11fe1c-8ab9-4120-821d-ab3b6ce4445f",
   "metadata": {},
   "outputs": [],
   "source": []
  },
  {
   "cell_type": "code",
   "execution_count": null,
   "id": "daaa738e-1297-4bb8-b70f-452368379ee0",
   "metadata": {},
   "outputs": [],
   "source": []
  },
  {
   "cell_type": "code",
   "execution_count": null,
   "id": "c2fad0f0-89fd-407b-b0e5-a91349f2f2e7",
   "metadata": {},
   "outputs": [],
   "source": []
  },
  {
   "cell_type": "code",
   "execution_count": null,
   "id": "4a63ddc3-b786-4350-abcd-5d5b4e5f0f8f",
   "metadata": {},
   "outputs": [],
   "source": []
  },
  {
   "cell_type": "code",
   "execution_count": null,
   "id": "c02d1a33-0e0f-4001-b222-ed63f9c1d2a8",
   "metadata": {},
   "outputs": [],
   "source": []
  },
  {
   "cell_type": "code",
   "execution_count": null,
   "id": "2f8ebbbb-ed45-4799-9539-d881c20b8e64",
   "metadata": {},
   "outputs": [],
   "source": []
  }
 ],
 "metadata": {
  "kernelspec": {
   "display_name": "Python [conda env:base] *",
   "language": "python",
   "name": "conda-base-py"
  },
  "language_info": {
   "codemirror_mode": {
    "name": "ipython",
    "version": 3
   },
   "file_extension": ".py",
   "mimetype": "text/x-python",
   "name": "python",
   "nbconvert_exporter": "python",
   "pygments_lexer": "ipython3",
   "version": "3.12.7"
  }
 },
 "nbformat": 4,
 "nbformat_minor": 5
}
